{
 "cells": [
  {
   "cell_type": "code",
   "execution_count": 1,
   "metadata": {},
   "outputs": [],
   "source": [
    "import pandas as pd\n",
    "import matplotlib.pyplot as plt\n",
    "from sklearn.model_selection import train_test_split\n",
    "import seaborn as sns\n",
    "%matplotlib inline\n",
    "import numpy as np\n",
    "import datetime \n",
    "\n",
    "import warnings\n",
    "warnings.filterwarnings(\"ignore\")"
   ]
  },
  {
   "cell_type": "code",
   "execution_count": 2,
   "metadata": {},
   "outputs": [],
   "source": [
    "df = pd.read_csv('BD_LAB_EXAMPLE_SAMPLE.csv', encoding='windows-1251')"
   ]
  },
  {
   "cell_type": "code",
   "execution_count": 3,
   "metadata": {},
   "outputs": [],
   "source": [
    "df = df[df.LAT != '.']\n",
    "df.head()\n",
    "df['LAT'] = df['LAT'].astype('float32')\n",
    "df['LON'] = df['LON'].astype('float32')"
   ]
  },
  {
   "cell_type": "code",
   "execution_count": 4,
   "metadata": {},
   "outputs": [],
   "source": [
    "flo = ['cost', 'call_duration_minutes', 'data_volume_mb']\n",
    "for ff in flo:\n",
    "    df[ff] = df[ff].astype('float32')"
   ]
  },
  {
   "cell_type": "code",
   "execution_count": 5,
   "metadata": {},
   "outputs": [
    {
     "name": "stdout",
     "output_type": "stream",
     "text": [
      "<class 'pandas.core.frame.DataFrame'>\n",
      "Int64Index: 1309551 entries, 14321 to 1327628\n",
      "Data columns (total 21 columns):\n",
      "hash_number_A                1309551 non-null category\n",
      "hash_tariff                  1309551 non-null category\n",
      "event                        1309551 non-null category\n",
      "event_sub                    1309551 non-null category\n",
      "network_service_direction    1309551 non-null category\n",
      "event_start_date             1309551 non-null object\n",
      "LAT                          1309551 non-null float32\n",
      "LON                          1309551 non-null float32\n",
      "cost                         1309551 non-null float32\n",
      "hash_number_B                1309551 non-null category\n",
      "number_B_category            23520 non-null category\n",
      "call_duration_minutes        1309551 non-null float32\n",
      "data_volume_mb               1309551 non-null float32\n",
      "hash_accum_code              1309551 non-null category\n",
      "device_type                  1233990 non-null category\n",
      "phone_price_category         1309551 non-null category\n",
      "interest_1                   738670 non-null category\n",
      "interest_2                   700596 non-null category\n",
      "interest_3                   617277 non-null category\n",
      "interest_4                   534960 non-null category\n",
      "interest_5                   424287 non-null category\n",
      "dtypes: category(15), float32(5), object(1)\n",
      "memory usage: 71.8+ MB\n"
     ]
    }
   ],
   "source": [
    "cat = ['hash_number_A', 'hash_tariff', 'event', 'event_sub', 'network_service_direction', 'hash_number_B', 'number_B_category', \n",
    " 'hash_accum_code', 'device_type', 'phone_price_category', 'interest_1', 'interest_2', 'interest_3', 'interest_4', 'interest_5']\n",
    "for cc in cat:\n",
    "    df[cc] = df[cc].astype('category')\n",
    "df.info()"
   ]
  },
  {
   "cell_type": "code",
   "execution_count": 6,
   "metadata": {},
   "outputs": [
    {
     "data": {
      "text/html": [
       "<div>\n",
       "<style>\n",
       "    .dataframe thead tr:only-child th {\n",
       "        text-align: right;\n",
       "    }\n",
       "\n",
       "    .dataframe thead th {\n",
       "        text-align: left;\n",
       "    }\n",
       "\n",
       "    .dataframe tbody tr th {\n",
       "        vertical-align: top;\n",
       "    }\n",
       "</style>\n",
       "<table border=\"1\" class=\"dataframe\">\n",
       "  <thead>\n",
       "    <tr style=\"text-align: right;\">\n",
       "      <th></th>\n",
       "      <th>hash_number_A</th>\n",
       "      <th>hash_tariff</th>\n",
       "      <th>event</th>\n",
       "      <th>event_sub</th>\n",
       "      <th>network_service_direction</th>\n",
       "      <th>event_start_date</th>\n",
       "      <th>LAT</th>\n",
       "      <th>LON</th>\n",
       "      <th>cost</th>\n",
       "      <th>hash_number_B</th>\n",
       "      <th>...</th>\n",
       "      <th>data_volume_mb</th>\n",
       "      <th>hash_accum_code</th>\n",
       "      <th>device_type</th>\n",
       "      <th>phone_price_category</th>\n",
       "      <th>interest_1</th>\n",
       "      <th>interest_2</th>\n",
       "      <th>interest_3</th>\n",
       "      <th>interest_4</th>\n",
       "      <th>interest_5</th>\n",
       "      <th>time</th>\n",
       "    </tr>\n",
       "  </thead>\n",
       "  <tbody>\n",
       "    <tr>\n",
       "      <th>14321</th>\n",
       "      <td>2006027</td>\n",
       "      <td>57042</td>\n",
       "      <td>network_ser</td>\n",
       "      <td>content</td>\n",
       "      <td>Incoming</td>\n",
       "      <td>19AUG17:18:30:02</td>\n",
       "      <td>51.212780</td>\n",
       "      <td>24.707224</td>\n",
       "      <td>0.0</td>\n",
       "      <td>95157</td>\n",
       "      <td>...</td>\n",
       "      <td>0.0</td>\n",
       "      <td>0</td>\n",
       "      <td>smartphone</td>\n",
       "      <td>2</td>\n",
       "      <td>NaN</td>\n",
       "      <td>NaN</td>\n",
       "      <td>NaN</td>\n",
       "      <td>NaN</td>\n",
       "      <td>NaN</td>\n",
       "      <td>2017-08-19 18:30:02</td>\n",
       "    </tr>\n",
       "    <tr>\n",
       "      <th>14322</th>\n",
       "      <td>1873067</td>\n",
       "      <td>35152</td>\n",
       "      <td>network_ser</td>\n",
       "      <td>other_sms</td>\n",
       "      <td>Incoming</td>\n",
       "      <td>27JUN17:09:28:51</td>\n",
       "      <td>50.362778</td>\n",
       "      <td>25.699165</td>\n",
       "      <td>0.0</td>\n",
       "      <td>95167</td>\n",
       "      <td>...</td>\n",
       "      <td>0.0</td>\n",
       "      <td>0</td>\n",
       "      <td>smartphone</td>\n",
       "      <td>2</td>\n",
       "      <td>NaN</td>\n",
       "      <td>NaN</td>\n",
       "      <td>NaN</td>\n",
       "      <td>NaN</td>\n",
       "      <td>NaN</td>\n",
       "      <td>2017-06-27 09:28:51</td>\n",
       "    </tr>\n",
       "    <tr>\n",
       "      <th>14323</th>\n",
       "      <td>1873067</td>\n",
       "      <td>35152</td>\n",
       "      <td>network_ser</td>\n",
       "      <td>other_sms</td>\n",
       "      <td>Incoming</td>\n",
       "      <td>27JUN17:09:28:39</td>\n",
       "      <td>50.362778</td>\n",
       "      <td>25.699165</td>\n",
       "      <td>0.0</td>\n",
       "      <td>95167</td>\n",
       "      <td>...</td>\n",
       "      <td>0.0</td>\n",
       "      <td>0</td>\n",
       "      <td>smartphone</td>\n",
       "      <td>2</td>\n",
       "      <td>NaN</td>\n",
       "      <td>NaN</td>\n",
       "      <td>NaN</td>\n",
       "      <td>NaN</td>\n",
       "      <td>NaN</td>\n",
       "      <td>2017-06-27 09:28:39</td>\n",
       "    </tr>\n",
       "    <tr>\n",
       "      <th>14324</th>\n",
       "      <td>1877518</td>\n",
       "      <td>45807</td>\n",
       "      <td>network_ser</td>\n",
       "      <td>international_voice</td>\n",
       "      <td>Incoming</td>\n",
       "      <td>14JUL17:13:27:16</td>\n",
       "      <td>51.340275</td>\n",
       "      <td>26.622499</td>\n",
       "      <td>0.0</td>\n",
       "      <td>95167</td>\n",
       "      <td>...</td>\n",
       "      <td>0.0</td>\n",
       "      <td>0</td>\n",
       "      <td>smartphone</td>\n",
       "      <td>2</td>\n",
       "      <td>Досуг</td>\n",
       "      <td>Наука и образование</td>\n",
       "      <td>Дом и семья</td>\n",
       "      <td>Hi-Tech</td>\n",
       "      <td>Новости и СМИ</td>\n",
       "      <td>2017-07-14 13:27:16</td>\n",
       "    </tr>\n",
       "    <tr>\n",
       "      <th>14325</th>\n",
       "      <td>1680547</td>\n",
       "      <td>35152</td>\n",
       "      <td>network_ser</td>\n",
       "      <td>international_voice</td>\n",
       "      <td>Incoming</td>\n",
       "      <td>31AUG17:18:59:19</td>\n",
       "      <td>48.897781</td>\n",
       "      <td>24.851112</td>\n",
       "      <td>0.0</td>\n",
       "      <td>95184</td>\n",
       "      <td>...</td>\n",
       "      <td>0.0</td>\n",
       "      <td>0</td>\n",
       "      <td>phone</td>\n",
       "      <td>1</td>\n",
       "      <td>NaN</td>\n",
       "      <td>NaN</td>\n",
       "      <td>NaN</td>\n",
       "      <td>NaN</td>\n",
       "      <td>NaN</td>\n",
       "      <td>2017-08-31 18:59:19</td>\n",
       "    </tr>\n",
       "  </tbody>\n",
       "</table>\n",
       "<p>5 rows × 22 columns</p>\n",
       "</div>"
      ],
      "text/plain": [
       "      hash_number_A hash_tariff        event            event_sub  \\\n",
       "14321       2006027       57042  network_ser              content   \n",
       "14322       1873067       35152  network_ser            other_sms   \n",
       "14323       1873067       35152  network_ser            other_sms   \n",
       "14324       1877518       45807  network_ser  international_voice   \n",
       "14325       1680547       35152  network_ser  international_voice   \n",
       "\n",
       "      network_service_direction  event_start_date        LAT        LON  cost  \\\n",
       "14321                  Incoming  19AUG17:18:30:02  51.212780  24.707224   0.0   \n",
       "14322                  Incoming  27JUN17:09:28:51  50.362778  25.699165   0.0   \n",
       "14323                  Incoming  27JUN17:09:28:39  50.362778  25.699165   0.0   \n",
       "14324                  Incoming  14JUL17:13:27:16  51.340275  26.622499   0.0   \n",
       "14325                  Incoming  31AUG17:18:59:19  48.897781  24.851112   0.0   \n",
       "\n",
       "      hash_number_B         ...         data_volume_mb  hash_accum_code  \\\n",
       "14321         95157         ...                    0.0                0   \n",
       "14322         95167         ...                    0.0                0   \n",
       "14323         95167         ...                    0.0                0   \n",
       "14324         95167         ...                    0.0                0   \n",
       "14325         95184         ...                    0.0                0   \n",
       "\n",
       "       device_type phone_price_category interest_1           interest_2  \\\n",
       "14321   smartphone                    2        NaN                  NaN   \n",
       "14322   smartphone                    2        NaN                  NaN   \n",
       "14323   smartphone                    2        NaN                  NaN   \n",
       "14324   smartphone                    2      Досуг  Наука и образование   \n",
       "14325        phone                    1        NaN                  NaN   \n",
       "\n",
       "        interest_3 interest_4     interest_5                time  \n",
       "14321          NaN        NaN            NaN 2017-08-19 18:30:02  \n",
       "14322          NaN        NaN            NaN 2017-06-27 09:28:51  \n",
       "14323          NaN        NaN            NaN 2017-06-27 09:28:39  \n",
       "14324  Дом и семья    Hi-Tech  Новости и СМИ 2017-07-14 13:27:16  \n",
       "14325          NaN        NaN            NaN 2017-08-31 18:59:19  \n",
       "\n",
       "[5 rows x 22 columns]"
      ]
     },
     "execution_count": 6,
     "metadata": {},
     "output_type": "execute_result"
    }
   ],
   "source": [
    "# Time \n",
    "time = []\n",
    "for tim in df['event_start_date']:\n",
    "    tim1 = datetime.datetime.strptime(tim, \"%d%b%y:%H:%M:%S\")\n",
    "    time.append(tim1)\n",
    "df['time'] = time\n",
    "df.head()\n",
    "#Reassign time and del time column\n",
    "#df.event_start_date = df.time\n",
    "#del df['time']"
   ]
  },
  {
   "cell_type": "code",
   "execution_count": 7,
   "metadata": {},
   "outputs": [
    {
     "name": "stdout",
     "output_type": "stream",
     "text": [
      "<class 'pandas.core.frame.DataFrame'>\n",
      "Int64Index: 1309551 entries, 14321 to 1327628\n",
      "Data columns (total 22 columns):\n",
      "hash_number_A                1309551 non-null category\n",
      "hash_tariff                  1309551 non-null category\n",
      "event                        1309551 non-null category\n",
      "event_sub                    1309551 non-null category\n",
      "network_service_direction    1309551 non-null category\n",
      "event_start_date             1309551 non-null object\n",
      "LAT                          1309551 non-null float32\n",
      "LON                          1309551 non-null float32\n",
      "cost                         1309551 non-null float32\n",
      "hash_number_B                1309551 non-null category\n",
      "number_B_category            23520 non-null category\n",
      "call_duration_minutes        1309551 non-null float32\n",
      "data_volume_mb               1309551 non-null float32\n",
      "hash_accum_code              1309551 non-null category\n",
      "device_type                  1233990 non-null category\n",
      "phone_price_category         1309551 non-null category\n",
      "interest_1                   738670 non-null category\n",
      "interest_2                   700596 non-null category\n",
      "interest_3                   617277 non-null category\n",
      "interest_4                   534960 non-null category\n",
      "interest_5                   424287 non-null category\n",
      "time                         1309551 non-null datetime64[ns]\n",
      "dtypes: category(15), datetime64[ns](1), float32(5), object(1)\n",
      "memory usage: 81.8+ MB\n"
     ]
    }
   ],
   "source": [
    "df.info()"
   ]
  },
  {
   "cell_type": "code",
   "execution_count": 8,
   "metadata": {},
   "outputs": [
    {
     "data": {
      "text/plain": [
       "Index(['hash_number_A', 'hash_tariff', 'event', 'event_sub',\n",
       "       'network_service_direction', 'event_start_date', 'LAT', 'LON', 'cost',\n",
       "       'hash_number_B', 'number_B_category', 'call_duration_minutes',\n",
       "       'data_volume_mb', 'hash_accum_code', 'device_type',\n",
       "       'phone_price_category', 'interest_1', 'interest_2', 'interest_3',\n",
       "       'interest_4', 'interest_5', 'time'],\n",
       "      dtype='object')"
      ]
     },
     "execution_count": 8,
     "metadata": {},
     "output_type": "execute_result"
    }
   ],
   "source": [
    "df.columns"
   ]
  },
  {
   "cell_type": "code",
   "execution_count": null,
   "metadata": {},
   "outputs": [],
   "source": []
  },
  {
   "cell_type": "code",
   "execution_count": null,
   "metadata": {},
   "outputs": [],
   "source": []
  },
  {
   "cell_type": "code",
   "execution_count": 9,
   "metadata": {},
   "outputs": [],
   "source": [
    "getlist = ['Митний пост Краковець', 'Пункт пропуску Шегині', 'Устилуг', 'МАПП Ягодин', 'Володимир-Волинський', 'Лудин', 'Ізов', \n",
    "          'Рава-Руська', 'Шегині', 'Хирів', 'Смільниця', 'Грушів', 'Мостиська', 'Угринів', 'Малі Селменці', 'Малий Березний', 'Ужгород', 'Павлове', 'Чоп', 'Чоп (Тиса)', 'Батьово', 'Саловка', 'Дзвінкове', 'Обава', 'ВПС Лужанка', 'Вилок', 'Дякове', 'Солотвино', 'Тересва', 'Ділове', 'Вадул-Сірет', 'Тереблечье', 'аеропорт Львів']"
   ]
  },
  {
   "cell_type": "code",
   "execution_count": 10,
   "metadata": {},
   "outputs": [
    {
     "ename": "AttributeError",
     "evalue": "'NoneType' object has no attribute 'latitude'",
     "output_type": "error",
     "traceback": [
      "\u001b[1;31m---------------------------------------------------------------------------\u001b[0m",
      "\u001b[1;31mAttributeError\u001b[0m                            Traceback (most recent call last)",
      "\u001b[1;32m<ipython-input-10-99a743ccc9a0>\u001b[0m in \u001b[0;36m<module>\u001b[1;34m()\u001b[0m\n\u001b[0;32m      6\u001b[0m \u001b[1;32mfor\u001b[0m \u001b[0mi\u001b[0m \u001b[1;32min\u001b[0m \u001b[0mgetlist\u001b[0m\u001b[1;33m:\u001b[0m\u001b[1;33m\u001b[0m\u001b[0m\n\u001b[0;32m      7\u001b[0m     \u001b[0mlocation\u001b[0m \u001b[1;33m=\u001b[0m \u001b[0mgeolocator\u001b[0m\u001b[1;33m.\u001b[0m\u001b[0mgeocode\u001b[0m\u001b[1;33m(\u001b[0m\u001b[1;33m[\u001b[0m\u001b[0mi\u001b[0m\u001b[1;33m]\u001b[0m\u001b[1;33m)\u001b[0m\u001b[1;33m\u001b[0m\u001b[0m\n\u001b[1;32m----> 8\u001b[1;33m     \u001b[0mdf_coord\u001b[0m \u001b[1;33m=\u001b[0m \u001b[0mdf_coord\u001b[0m\u001b[1;33m.\u001b[0m\u001b[0mappend\u001b[0m\u001b[1;33m(\u001b[0m\u001b[1;33m{\u001b[0m\u001b[1;34m'Name'\u001b[0m\u001b[1;33m:\u001b[0m \u001b[0mi\u001b[0m\u001b[1;33m,\u001b[0m \u001b[1;34m'LAT'\u001b[0m\u001b[1;33m:\u001b[0m \u001b[0mlocation\u001b[0m\u001b[1;33m.\u001b[0m\u001b[0mlatitude\u001b[0m\u001b[1;33m,\u001b[0m \u001b[1;34m'LON'\u001b[0m\u001b[1;33m:\u001b[0m \u001b[0mlocation\u001b[0m\u001b[1;33m.\u001b[0m\u001b[0mlongitude\u001b[0m\u001b[1;33m}\u001b[0m\u001b[1;33m,\u001b[0m \u001b[0mignore_index\u001b[0m\u001b[1;33m=\u001b[0m\u001b[1;32mTrue\u001b[0m\u001b[1;33m)\u001b[0m\u001b[1;33m\u001b[0m\u001b[0m\n\u001b[0m\u001b[0;32m      9\u001b[0m     \u001b[0mcoord_list\u001b[0m \u001b[1;33m=\u001b[0m \u001b[1;33m[\u001b[0m\u001b[0mlocation\u001b[0m\u001b[1;33m.\u001b[0m\u001b[0mlatitude\u001b[0m\u001b[1;33m,\u001b[0m \u001b[0mlocation\u001b[0m\u001b[1;33m.\u001b[0m\u001b[0mlongitude\u001b[0m\u001b[1;33m]\u001b[0m\u001b[1;33m\u001b[0m\u001b[0m\n\u001b[0;32m     10\u001b[0m     \u001b[0mlistoflist\u001b[0m\u001b[1;33m.\u001b[0m\u001b[0mappend\u001b[0m\u001b[1;33m(\u001b[0m\u001b[0mcoord_list\u001b[0m\u001b[1;33m)\u001b[0m\u001b[1;33m\u001b[0m\u001b[0m\n",
      "\u001b[1;31mAttributeError\u001b[0m: 'NoneType' object has no attribute 'latitude'"
     ]
    }
   ],
   "source": [
    "df_coord = pd.DataFrame(columns = ['Name', 'LAT', 'LON'])\n",
    "listoflist = []\n",
    "#coordinates of border points\n",
    "from geopy.geocoders import Nominatim\n",
    "geolocator = Nominatim()\n",
    "for i in getlist:\n",
    "    location = geolocator.geocode([i])\n",
    "    df_coord = df_coord.append({'Name': i, 'LAT': location.latitude, 'LON': location.longitude}, ignore_index=True)\n",
    "    coord_list = [location.latitude, location.longitude]\n",
    "    listoflist.append(coord_list)\n",
    "    print(i,location.latitude, location.longitude)\n",
    "df_coord.head()\n",
    "listoflist\n",
    "#print(location.address)\n",
    "#print(location.raw)"
   ]
  },
  {
   "cell_type": "code",
   "execution_count": 3,
   "metadata": {},
   "outputs": [
    {
     "ename": "NameError",
     "evalue": "name 'df_coord' is not defined",
     "output_type": "error",
     "traceback": [
      "\u001b[1;31m---------------------------------------------------------------------------\u001b[0m",
      "\u001b[1;31mNameError\u001b[0m                                 Traceback (most recent call last)",
      "\u001b[1;32m<ipython-input-3-7b716b493e68>\u001b[0m in \u001b[0;36m<module>\u001b[1;34m()\u001b[0m\n\u001b[1;32m----> 1\u001b[1;33m \u001b[0mdf_coord\u001b[0m\u001b[1;33m\u001b[0m\u001b[0m\n\u001b[0m",
      "\u001b[1;31mNameError\u001b[0m: name 'df_coord' is not defined"
     ]
    }
   ],
   "source": [
    "df_coord"
   ]
  },
  {
   "cell_type": "code",
   "execution_count": 93,
   "metadata": {
    "collapsed": true
   },
   "outputs": [],
   "source": [
    "border_checkpoint_coords = listoflist # CHANGE IT!!! List of tuples with border checkpoints coordinates\n",
    "radius = 0.012 # CHANGE IT !!!! radius in decimal points equal to 1 km\n",
    "def check_coords(point_coord):\n",
    "    \"\"\"\n",
    "    Input [LAT, LON] list with Latitude and Longitude of a point\n",
    "    Returns True if point_coords fits to circle around a border checkpoint\n",
    "    with radius 1 km\n",
    "    \"\"\"\n",
    "    \n",
    "    for checkpoint_coord in border_checkpoint_coords:\n",
    "        if (point_coord[0] - checkpoint_coord[0])**2 + (point_coord[1] - checkpoint_coord[1])**2 <= radius**2:\n",
    "            return True\n",
    "    return False"
   ]
  },
  {
   "cell_type": "code",
   "execution_count": 95,
   "metadata": {},
   "outputs": [
    {
     "data": {
      "text/plain": [
       "False"
      ]
     },
     "execution_count": 95,
     "metadata": {},
     "output_type": "execute_result"
    }
   ],
   "source": [
    "check_coords([49.841952, 24.0315921])"
   ]
  },
  {
   "cell_type": "code",
   "execution_count": null,
   "metadata": {
    "collapsed": true
   },
   "outputs": [],
   "source": []
  }
 ],
 "metadata": {
  "kernelspec": {
   "display_name": "Python 3",
   "language": "python",
   "name": "python3"
  },
  "language_info": {
   "codemirror_mode": {
    "name": "ipython",
    "version": 3
   },
   "file_extension": ".py",
   "mimetype": "text/x-python",
   "name": "python",
   "nbconvert_exporter": "python",
   "pygments_lexer": "ipython3",
   "version": "3.6.0"
  }
 },
 "nbformat": 4,
 "nbformat_minor": 2
}
